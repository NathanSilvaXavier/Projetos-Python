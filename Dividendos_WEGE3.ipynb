{
  "nbformat": 4,
  "nbformat_minor": 0,
  "metadata": {
    "colab": {
      "provenance": [],
      "include_colab_link": true
    },
    "kernelspec": {
      "name": "python3",
      "display_name": "Python 3"
    },
    "language_info": {
      "name": "python"
    }
  },
  "cells": [
    {
      "cell_type": "markdown",
      "metadata": {
        "id": "view-in-github",
        "colab_type": "text"
      },
      "source": [
        "<a href=\"https://colab.research.google.com/github/NathanSilvaXavier/Projetos-Python-/blob/main/Dividendos_WEGE3.ipynb\" target=\"_parent\"><img src=\"https://colab.research.google.com/assets/colab-badge.svg\" alt=\"Open In Colab\"/></a>"
      ]
    },
    {
      "cell_type": "code",
      "execution_count": null,
      "metadata": {
        "colab": {
          "base_uri": "https://localhost:8080/"
        },
        "id": "02lADi0aCrMN",
        "outputId": "6f2f1e00-c942-4e88-b00e-086afe2454af"
      },
      "outputs": [
        {
          "output_type": "stream",
          "name": "stdout",
          "text": [
            "Looking in indexes: https://pypi.org/simple, https://us-python.pkg.dev/colab-wheels/public/simple/\n",
            "Collecting yfinance\n",
            "  Downloading yfinance-0.1.87-py2.py3-none-any.whl (29 kB)\n",
            "Requirement already satisfied: pandas>=0.24.0 in /usr/local/lib/python3.8/dist-packages (from yfinance) (1.3.5)\n",
            "Requirement already satisfied: lxml>=4.5.1 in /usr/local/lib/python3.8/dist-packages (from yfinance) (4.9.1)\n",
            "Requirement already satisfied: numpy>=1.15 in /usr/local/lib/python3.8/dist-packages (from yfinance) (1.21.6)\n",
            "Collecting requests>=2.26\n",
            "  Downloading requests-2.28.1-py3-none-any.whl (62 kB)\n",
            "\u001b[K     |████████████████████████████████| 62 kB 1.2 MB/s \n",
            "\u001b[?25hRequirement already satisfied: appdirs>=1.4.4 in /usr/local/lib/python3.8/dist-packages (from yfinance) (1.4.4)\n",
            "Requirement already satisfied: multitasking>=0.0.7 in /usr/local/lib/python3.8/dist-packages (from yfinance) (0.0.11)\n",
            "Requirement already satisfied: python-dateutil>=2.7.3 in /usr/local/lib/python3.8/dist-packages (from pandas>=0.24.0->yfinance) (2.8.2)\n",
            "Requirement already satisfied: pytz>=2017.3 in /usr/local/lib/python3.8/dist-packages (from pandas>=0.24.0->yfinance) (2022.6)\n",
            "Requirement already satisfied: six>=1.5 in /usr/local/lib/python3.8/dist-packages (from python-dateutil>=2.7.3->pandas>=0.24.0->yfinance) (1.15.0)\n",
            "Requirement already satisfied: urllib3<1.27,>=1.21.1 in /usr/local/lib/python3.8/dist-packages (from requests>=2.26->yfinance) (1.24.3)\n",
            "Requirement already satisfied: certifi>=2017.4.17 in /usr/local/lib/python3.8/dist-packages (from requests>=2.26->yfinance) (2022.9.24)\n",
            "Requirement already satisfied: idna<4,>=2.5 in /usr/local/lib/python3.8/dist-packages (from requests>=2.26->yfinance) (2.10)\n",
            "Requirement already satisfied: charset-normalizer<3,>=2 in /usr/local/lib/python3.8/dist-packages (from requests>=2.26->yfinance) (2.1.1)\n",
            "Installing collected packages: requests, yfinance\n",
            "  Attempting uninstall: requests\n",
            "    Found existing installation: requests 2.23.0\n",
            "    Uninstalling requests-2.23.0:\n",
            "      Successfully uninstalled requests-2.23.0\n",
            "Successfully installed requests-2.28.1 yfinance-0.1.87\n"
          ]
        }
      ],
      "source": [
        "!pip install yfinance\n",
        "import yfinance as yf"
      ]
    },
    {
      "cell_type": "markdown",
      "source": [
        "# **Importando dados WEGE3**"
      ],
      "metadata": {
        "id": "MOGlSREvLy5o"
      }
    },
    {
      "cell_type": "code",
      "source": [
        "papel =  yf.Ticker('WEGE3.SA')\n",
        "dados = papel.history(start = '2010-11-30' , end = '2022-11-30')\n"
      ],
      "metadata": {
        "id": "fExN_h5oDEvc"
      },
      "execution_count": null,
      "outputs": []
    },
    {
      "cell_type": "markdown",
      "source": [
        "### *Plot do histórico de pagamentos de dividendos para inspecionar os dados visualmente*"
      ],
      "metadata": {
        "id": "2rfcF6_iMKij"
      }
    },
    {
      "cell_type": "code",
      "source": [
        "dados.Dividends.plot()"
      ],
      "metadata": {
        "colab": {
          "base_uri": "https://localhost:8080/",
          "height": 286
        },
        "id": "22Z0hoZHEHPC",
        "outputId": "0b56a2cd-3793-412e-83b9-af02a55734f7"
      },
      "execution_count": null,
      "outputs": [
        {
          "output_type": "execute_result",
          "data": {
            "text/plain": [
              "<matplotlib.axes._subplots.AxesSubplot at 0x7f3c0bba5400>"
            ]
          },
          "metadata": {},
          "execution_count": 5
        },
        {
          "output_type": "display_data",
          "data": {
            "text/plain": [
              "<Figure size 432x288 with 1 Axes>"
            ],
            "image/png": "[encoded data removed]"
          },
          "metadata": {
            "needs_background": "light"
          }
        }
      ]
    },
    {
      "cell_type": "markdown",
      "source": [
        "## *Criamos 3 colunas no nosso dataframe para especificar o mês, ano , e o mês-ano*"
      ],
      "metadata": {
        "id": "71JigPUiMhlF"
      }
    },
    {
      "cell_type": "code",
      "source": [
        "dados['month'] = dados.index.month\n",
        "dados['year'] = dados.index.year\n",
        "dados['year_month'] = dados['year'].astype(str) + \"-\" + dados['month'].astype(str)"
      ],
      "metadata": {
        "id": "-nTQeZuQEHro"
      },
      "execution_count": null,
      "outputs": []
    },
    {
      "cell_type": "markdown",
      "source": [
        "# Qual o soma de dividendos que WEG pagou por ano?"
      ],
      "metadata": {
        "id": "OncsIHgSNDhd"
      }
    },
    {
      "cell_type": "code",
      "source": [
        "dados.groupby(['year'])['Dividends'].sum()"
      ],
      "metadata": {
        "colab": {
          "base_uri": "https://localhost:8080/"
        },
        "id": "UVoIs3mqFsNx",
        "outputId": "a17ac444-6a43-4a9d-b889-866f61b0e44c"
      },
      "execution_count": null,
      "outputs": [
        {
          "output_type": "execute_result",
          "data": {
            "text/plain": [
              "year\n",
              "2010    0.007396\n",
              "2011    0.084231\n",
              "2012    0.073076\n",
              "2013    0.100130\n",
              "2014    0.123241\n",
              "2015    0.150136\n",
              "2016    0.144652\n",
              "2017    0.137596\n",
              "2018    0.157902\n",
              "2019    0.170210\n",
              "2020    0.217194\n",
              "2021    0.423000\n",
              "2022    0.461327\n",
              "Name: Dividends, dtype: float64"
            ]
          },
          "metadata": {},
          "execution_count": 7
        }
      ]
    },
    {
      "cell_type": "markdown",
      "source": [
        "# *Gráfico de tendência de pagamentos ao longo do tempo*"
      ],
      "metadata": {
        "id": "H7T2_yJ4NrhS"
      }
    },
    {
      "cell_type": "code",
      "source": [
        "dados.groupby(['year'])['Dividends'].sum().plot()"
      ],
      "metadata": {
        "colab": {
          "base_uri": "https://localhost:8080/",
          "height": 296
        },
        "id": "t9KPeDaeGLq_",
        "outputId": "a61ddb30-442e-44db-876c-a85b0ffcec51"
      },
      "execution_count": null,
      "outputs": [
        {
          "output_type": "execute_result",
          "data": {
            "text/plain": [
              "<matplotlib.axes._subplots.AxesSubplot at 0x7f3c08ca53d0>"
            ]
          },
          "metadata": {},
          "execution_count": 8
        },
        {
          "output_type": "display_data",
          "data": {
            "text/plain": [
              "<Figure size 432x288 with 1 Axes>"
            ],
            "image/png": "[encoded data removed]"
          },
          "metadata": {
            "needs_background": "light"
          }
        }
      ]
    },
    {
      "cell_type": "markdown",
      "source": [
        "# No intervalo analisado, qual a soma dos dividendos pagos por mês?"
      ],
      "metadata": {
        "id": "wxdguS3tN8Os"
      }
    },
    {
      "cell_type": "code",
      "source": [
        "dados.groupby(['month'])['Dividends'].sum()"
      ],
      "metadata": {
        "colab": {
          "base_uri": "https://localhost:8080/"
        },
        "id": "GttbsShYGtnX",
        "outputId": "3fd122c6-875c-4b13-f9d8-dcc392a12c7b"
      },
      "execution_count": null,
      "outputs": [
        {
          "output_type": "execute_result",
          "data": {
            "text/plain": [
              "month\n",
              "1     0.000000\n",
              "2     0.515802\n",
              "3     0.447019\n",
              "4     0.000000\n",
              "5     0.000000\n",
              "6     0.170753\n",
              "7     0.484132\n",
              "8     0.172138\n",
              "9     0.212239\n",
              "10    0.022353\n",
              "11    0.000000\n",
              "12    0.225655\n",
              "Name: Dividends, dtype: float64"
            ]
          },
          "metadata": {},
          "execution_count": 9
        }
      ]
    },
    {
      "cell_type": "markdown",
      "source": [
        "# Quantas vezes WEGE3 paga dividendos por ano , normalmente?"
      ],
      "metadata": {
        "id": "2TUySh_-Jxgb"
      }
    },
    {
      "cell_type": "code",
      "source": [
        "dadosfiltrados = dados[dados.Dividends !=0]\n",
        "dadosfiltrados.groupby([ 'year' ])['Dividends'].count()"
      ],
      "metadata": {
        "colab": {
          "base_uri": "https://localhost:8080/"
        },
        "id": "v10xO1UhG_2T",
        "outputId": "a03c458a-69b1-4159-d8bc-c1c3a3f58e77"
      },
      "execution_count": null,
      "outputs": [
        {
          "output_type": "execute_result",
          "data": {
            "text/plain": [
              "year\n",
              "2010    1\n",
              "2011    6\n",
              "2012    6\n",
              "2013    6\n",
              "2014    6\n",
              "2015    6\n",
              "2016    6\n",
              "2017    6\n",
              "2018    6\n",
              "2019    6\n",
              "2020    6\n",
              "2021    6\n",
              "2022    5\n",
              "Name: Dividends, dtype: int64"
            ]
          },
          "metadata": {},
          "execution_count": 15
        }
      ]
    },
    {
      "cell_type": "markdown",
      "source": [
        "# Nos últimos 10 anos, quantas vezes foram pagos proventos por mês, ao todo?"
      ],
      "metadata": {
        "id": "Jgav_EEfI8_L"
      }
    },
    {
      "cell_type": "code",
      "source": [
        "dadosfiltrados.groupby([ 'month' ])['Dividends'].count()"
      ],
      "metadata": {
        "colab": {
          "base_uri": "https://localhost:8080/"
        },
        "id": "LltYJs4GHfq_",
        "outputId": "c8cd8641-f54b-44f3-86f1-cf8de052d4e0"
      },
      "execution_count": null,
      "outputs": [
        {
          "output_type": "execute_result",
          "data": {
            "text/plain": [
              "month\n",
              "2      9\n",
              "3     15\n",
              "6      9\n",
              "7     13\n",
              "8      2\n",
              "9     11\n",
              "10     1\n",
              "12    12\n",
              "Name: Dividends, dtype: int64"
            ]
          },
          "metadata": {},
          "execution_count": 16
        }
      ]
    },
    {
      "cell_type": "markdown",
      "source": [
        "# **Dividend Yield (DY)**"
      ],
      "metadata": {
        "id": "YmH82pdtKDvc"
      }
    },
    {
      "cell_type": "code",
      "source": [
        "preco_final = yf.download('WEGE3.SA' , start = '2022-11-29')['Close'][-1]"
      ],
      "metadata": {
        "colab": {
          "base_uri": "https://localhost:8080/"
        },
        "id": "lEXKMZw3JrdV",
        "outputId": "7c9346cf-f46d-4796-da18-ab1509cd9a26"
      },
      "execution_count": null,
      "outputs": [
        {
          "output_type": "stream",
          "name": "stdout",
          "text": [
            "\r[*********************100%***********************]  1 of 1 completed\n"
          ]
        }
      ]
    },
    {
      "cell_type": "code",
      "source": [
        "dados = papel.history(start = '2021-11-30' , end = '2022-11-30')\n",
        "dadosfiltrados = dados[dados.Dividends !=0]"
      ],
      "metadata": {
        "id": "TOBl6SWRKk6o"
      },
      "execution_count": null,
      "outputs": []
    },
    {
      "cell_type": "code",
      "source": [
        "soma_dividendos = sum(dadosfiltrados.Dividends)"
      ],
      "metadata": {
        "id": "6uxob9jELHGm"
      },
      "execution_count": null,
      "outputs": []
    },
    {
      "cell_type": "code",
      "source": [
        "(soma_dividendos/preco_final)*100"
      ],
      "metadata": {
        "colab": {
          "base_uri": "https://localhost:8080/"
        },
        "id": "FTwCJGtILbDC",
        "outputId": "9ffd6968-1bcb-498d-c252-d16041adc426"
      },
      "execution_count": null,
      "outputs": [
        {
          "output_type": "execute_result",
          "data": {
            "text/plain": [
              "1.3120399468620767"
            ]
          },
          "metadata": {},
          "execution_count": 20
        }
      ]
    }
  ]
}